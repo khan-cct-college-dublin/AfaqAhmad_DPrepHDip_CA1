{
 "cells": [
  {
   "cell_type": "markdown",
   "metadata": {},
   "source": [
    "# Assignment"
   ]
  },
  {
   "cell_type": "markdown",
   "metadata": {},
   "source": [
    "## Exploratory Data Analysis (EDA)\n",
    "1. Import necessary libraries"
   ]
  },
  {
   "cell_type": "code",
   "execution_count": 16,
   "metadata": {},
   "outputs": [],
   "source": [
    "import numpy as np\n",
    "import pandas as pd\n",
    "import seaborn as sns\n",
    "import matplotlib.pyplot as plt\n",
    "from sklearn.preprocessing import LabelEncoder"
   ]
  },
  {
   "cell_type": "markdown",
   "metadata": {},
   "source": [
    "2. Load relevant **Dataset** for analysis"
   ]
  },
  {
   "cell_type": "code",
   "execution_count": 17,
   "metadata": {},
   "outputs": [
    {
     "data": {
      "text/html": [
       "<div>\n",
       "<style scoped>\n",
       "    .dataframe tbody tr th:only-of-type {\n",
       "        vertical-align: middle;\n",
       "    }\n",
       "\n",
       "    .dataframe tbody tr th {\n",
       "        vertical-align: top;\n",
       "    }\n",
       "\n",
       "    .dataframe thead th {\n",
       "        text-align: right;\n",
       "    }\n",
       "</style>\n",
       "<table border=\"1\" class=\"dataframe\">\n",
       "  <thead>\n",
       "    <tr style=\"text-align: right;\">\n",
       "      <th></th>\n",
       "      <th>class</th>\n",
       "      <th>aa_000</th>\n",
       "      <th>ab_000</th>\n",
       "      <th>ac_000</th>\n",
       "      <th>ad_000</th>\n",
       "      <th>ae_000</th>\n",
       "      <th>af_000</th>\n",
       "      <th>ag_000</th>\n",
       "      <th>ag_001</th>\n",
       "      <th>ag_002</th>\n",
       "      <th>...</th>\n",
       "      <th>ee_002</th>\n",
       "      <th>ee_003</th>\n",
       "      <th>ee_004</th>\n",
       "      <th>ee_005</th>\n",
       "      <th>ee_006</th>\n",
       "      <th>ee_007</th>\n",
       "      <th>ee_008</th>\n",
       "      <th>ee_009</th>\n",
       "      <th>ef_000</th>\n",
       "      <th>eg_000</th>\n",
       "    </tr>\n",
       "  </thead>\n",
       "  <tbody>\n",
       "    <tr>\n",
       "      <th>0</th>\n",
       "      <td>neg</td>\n",
       "      <td>76698</td>\n",
       "      <td>na</td>\n",
       "      <td>2130706438</td>\n",
       "      <td>280</td>\n",
       "      <td>0</td>\n",
       "      <td>0</td>\n",
       "      <td>0</td>\n",
       "      <td>0</td>\n",
       "      <td>0</td>\n",
       "      <td>...</td>\n",
       "      <td>1240520</td>\n",
       "      <td>493384</td>\n",
       "      <td>721044</td>\n",
       "      <td>469792</td>\n",
       "      <td>339156</td>\n",
       "      <td>157956</td>\n",
       "      <td>73224</td>\n",
       "      <td>0</td>\n",
       "      <td>0</td>\n",
       "      <td>0</td>\n",
       "    </tr>\n",
       "    <tr>\n",
       "      <th>1</th>\n",
       "      <td>neg</td>\n",
       "      <td>33058</td>\n",
       "      <td>na</td>\n",
       "      <td>0</td>\n",
       "      <td>na</td>\n",
       "      <td>0</td>\n",
       "      <td>0</td>\n",
       "      <td>0</td>\n",
       "      <td>0</td>\n",
       "      <td>0</td>\n",
       "      <td>...</td>\n",
       "      <td>421400</td>\n",
       "      <td>178064</td>\n",
       "      <td>293306</td>\n",
       "      <td>245416</td>\n",
       "      <td>133654</td>\n",
       "      <td>81140</td>\n",
       "      <td>97576</td>\n",
       "      <td>1500</td>\n",
       "      <td>0</td>\n",
       "      <td>0</td>\n",
       "    </tr>\n",
       "    <tr>\n",
       "      <th>2</th>\n",
       "      <td>neg</td>\n",
       "      <td>41040</td>\n",
       "      <td>na</td>\n",
       "      <td>228</td>\n",
       "      <td>100</td>\n",
       "      <td>0</td>\n",
       "      <td>0</td>\n",
       "      <td>0</td>\n",
       "      <td>0</td>\n",
       "      <td>0</td>\n",
       "      <td>...</td>\n",
       "      <td>277378</td>\n",
       "      <td>159812</td>\n",
       "      <td>423992</td>\n",
       "      <td>409564</td>\n",
       "      <td>320746</td>\n",
       "      <td>158022</td>\n",
       "      <td>95128</td>\n",
       "      <td>514</td>\n",
       "      <td>0</td>\n",
       "      <td>0</td>\n",
       "    </tr>\n",
       "    <tr>\n",
       "      <th>3</th>\n",
       "      <td>neg</td>\n",
       "      <td>12</td>\n",
       "      <td>0</td>\n",
       "      <td>70</td>\n",
       "      <td>66</td>\n",
       "      <td>0</td>\n",
       "      <td>10</td>\n",
       "      <td>0</td>\n",
       "      <td>0</td>\n",
       "      <td>0</td>\n",
       "      <td>...</td>\n",
       "      <td>240</td>\n",
       "      <td>46</td>\n",
       "      <td>58</td>\n",
       "      <td>44</td>\n",
       "      <td>10</td>\n",
       "      <td>0</td>\n",
       "      <td>0</td>\n",
       "      <td>0</td>\n",
       "      <td>4</td>\n",
       "      <td>32</td>\n",
       "    </tr>\n",
       "    <tr>\n",
       "      <th>4</th>\n",
       "      <td>neg</td>\n",
       "      <td>60874</td>\n",
       "      <td>na</td>\n",
       "      <td>1368</td>\n",
       "      <td>458</td>\n",
       "      <td>0</td>\n",
       "      <td>0</td>\n",
       "      <td>0</td>\n",
       "      <td>0</td>\n",
       "      <td>0</td>\n",
       "      <td>...</td>\n",
       "      <td>622012</td>\n",
       "      <td>229790</td>\n",
       "      <td>405298</td>\n",
       "      <td>347188</td>\n",
       "      <td>286954</td>\n",
       "      <td>311560</td>\n",
       "      <td>433954</td>\n",
       "      <td>1218</td>\n",
       "      <td>0</td>\n",
       "      <td>0</td>\n",
       "    </tr>\n",
       "    <tr>\n",
       "      <th>...</th>\n",
       "      <td>...</td>\n",
       "      <td>...</td>\n",
       "      <td>...</td>\n",
       "      <td>...</td>\n",
       "      <td>...</td>\n",
       "      <td>...</td>\n",
       "      <td>...</td>\n",
       "      <td>...</td>\n",
       "      <td>...</td>\n",
       "      <td>...</td>\n",
       "      <td>...</td>\n",
       "      <td>...</td>\n",
       "      <td>...</td>\n",
       "      <td>...</td>\n",
       "      <td>...</td>\n",
       "      <td>...</td>\n",
       "      <td>...</td>\n",
       "      <td>...</td>\n",
       "      <td>...</td>\n",
       "      <td>...</td>\n",
       "      <td>...</td>\n",
       "    </tr>\n",
       "    <tr>\n",
       "      <th>59995</th>\n",
       "      <td>neg</td>\n",
       "      <td>153002</td>\n",
       "      <td>na</td>\n",
       "      <td>664</td>\n",
       "      <td>186</td>\n",
       "      <td>0</td>\n",
       "      <td>0</td>\n",
       "      <td>0</td>\n",
       "      <td>0</td>\n",
       "      <td>0</td>\n",
       "      <td>...</td>\n",
       "      <td>998500</td>\n",
       "      <td>566884</td>\n",
       "      <td>1290398</td>\n",
       "      <td>1218244</td>\n",
       "      <td>1019768</td>\n",
       "      <td>717762</td>\n",
       "      <td>898642</td>\n",
       "      <td>28588</td>\n",
       "      <td>0</td>\n",
       "      <td>0</td>\n",
       "    </tr>\n",
       "    <tr>\n",
       "      <th>59996</th>\n",
       "      <td>neg</td>\n",
       "      <td>2286</td>\n",
       "      <td>na</td>\n",
       "      <td>2130706538</td>\n",
       "      <td>224</td>\n",
       "      <td>0</td>\n",
       "      <td>0</td>\n",
       "      <td>0</td>\n",
       "      <td>0</td>\n",
       "      <td>0</td>\n",
       "      <td>...</td>\n",
       "      <td>10578</td>\n",
       "      <td>6760</td>\n",
       "      <td>21126</td>\n",
       "      <td>68424</td>\n",
       "      <td>136</td>\n",
       "      <td>0</td>\n",
       "      <td>0</td>\n",
       "      <td>0</td>\n",
       "      <td>0</td>\n",
       "      <td>0</td>\n",
       "    </tr>\n",
       "    <tr>\n",
       "      <th>59997</th>\n",
       "      <td>neg</td>\n",
       "      <td>112</td>\n",
       "      <td>0</td>\n",
       "      <td>2130706432</td>\n",
       "      <td>18</td>\n",
       "      <td>0</td>\n",
       "      <td>0</td>\n",
       "      <td>0</td>\n",
       "      <td>0</td>\n",
       "      <td>0</td>\n",
       "      <td>...</td>\n",
       "      <td>792</td>\n",
       "      <td>386</td>\n",
       "      <td>452</td>\n",
       "      <td>144</td>\n",
       "      <td>146</td>\n",
       "      <td>2622</td>\n",
       "      <td>0</td>\n",
       "      <td>0</td>\n",
       "      <td>0</td>\n",
       "      <td>0</td>\n",
       "    </tr>\n",
       "    <tr>\n",
       "      <th>59998</th>\n",
       "      <td>neg</td>\n",
       "      <td>80292</td>\n",
       "      <td>na</td>\n",
       "      <td>2130706432</td>\n",
       "      <td>494</td>\n",
       "      <td>0</td>\n",
       "      <td>0</td>\n",
       "      <td>0</td>\n",
       "      <td>0</td>\n",
       "      <td>0</td>\n",
       "      <td>...</td>\n",
       "      <td>699352</td>\n",
       "      <td>222654</td>\n",
       "      <td>347378</td>\n",
       "      <td>225724</td>\n",
       "      <td>194440</td>\n",
       "      <td>165070</td>\n",
       "      <td>802280</td>\n",
       "      <td>388422</td>\n",
       "      <td>0</td>\n",
       "      <td>0</td>\n",
       "    </tr>\n",
       "    <tr>\n",
       "      <th>59999</th>\n",
       "      <td>neg</td>\n",
       "      <td>40222</td>\n",
       "      <td>na</td>\n",
       "      <td>698</td>\n",
       "      <td>628</td>\n",
       "      <td>0</td>\n",
       "      <td>0</td>\n",
       "      <td>0</td>\n",
       "      <td>0</td>\n",
       "      <td>0</td>\n",
       "      <td>...</td>\n",
       "      <td>440066</td>\n",
       "      <td>183200</td>\n",
       "      <td>344546</td>\n",
       "      <td>254068</td>\n",
       "      <td>225148</td>\n",
       "      <td>158304</td>\n",
       "      <td>170384</td>\n",
       "      <td>158</td>\n",
       "      <td>0</td>\n",
       "      <td>0</td>\n",
       "    </tr>\n",
       "  </tbody>\n",
       "</table>\n",
       "<p>60000 rows × 171 columns</p>\n",
       "</div>"
      ],
      "text/plain": [
       "      class  aa_000 ab_000      ac_000 ad_000 ae_000 af_000 ag_000 ag_001  \\\n",
       "0       neg   76698     na  2130706438    280      0      0      0      0   \n",
       "1       neg   33058     na           0     na      0      0      0      0   \n",
       "2       neg   41040     na         228    100      0      0      0      0   \n",
       "3       neg      12      0          70     66      0     10      0      0   \n",
       "4       neg   60874     na        1368    458      0      0      0      0   \n",
       "...     ...     ...    ...         ...    ...    ...    ...    ...    ...   \n",
       "59995   neg  153002     na         664    186      0      0      0      0   \n",
       "59996   neg    2286     na  2130706538    224      0      0      0      0   \n",
       "59997   neg     112      0  2130706432     18      0      0      0      0   \n",
       "59998   neg   80292     na  2130706432    494      0      0      0      0   \n",
       "59999   neg   40222     na         698    628      0      0      0      0   \n",
       "\n",
       "      ag_002  ...   ee_002  ee_003   ee_004   ee_005   ee_006  ee_007  ee_008  \\\n",
       "0          0  ...  1240520  493384   721044   469792   339156  157956   73224   \n",
       "1          0  ...   421400  178064   293306   245416   133654   81140   97576   \n",
       "2          0  ...   277378  159812   423992   409564   320746  158022   95128   \n",
       "3          0  ...      240      46       58       44       10       0       0   \n",
       "4          0  ...   622012  229790   405298   347188   286954  311560  433954   \n",
       "...      ...  ...      ...     ...      ...      ...      ...     ...     ...   \n",
       "59995      0  ...   998500  566884  1290398  1218244  1019768  717762  898642   \n",
       "59996      0  ...    10578    6760    21126    68424      136       0       0   \n",
       "59997      0  ...      792     386      452      144      146    2622       0   \n",
       "59998      0  ...   699352  222654   347378   225724   194440  165070  802280   \n",
       "59999      0  ...   440066  183200   344546   254068   225148  158304  170384   \n",
       "\n",
       "       ee_009 ef_000 eg_000  \n",
       "0           0      0      0  \n",
       "1        1500      0      0  \n",
       "2         514      0      0  \n",
       "3           0      4     32  \n",
       "4        1218      0      0  \n",
       "...       ...    ...    ...  \n",
       "59995   28588      0      0  \n",
       "59996       0      0      0  \n",
       "59997       0      0      0  \n",
       "59998  388422      0      0  \n",
       "59999     158      0      0  \n",
       "\n",
       "[60000 rows x 171 columns]"
      ]
     },
     "execution_count": 17,
     "metadata": {},
     "output_type": "execute_result"
    }
   ],
   "source": [
    "data = pd.read_csv(\"aps_failure_set.csv\")\n",
    "data"
   ]
  },
  {
   "cell_type": "markdown",
   "metadata": {},
   "source": [
    "3. Displaying first 5 instances of dataset"
   ]
  },
  {
   "cell_type": "code",
   "execution_count": 18,
   "metadata": {},
   "outputs": [
    {
     "data": {
      "text/html": [
       "<div>\n",
       "<style scoped>\n",
       "    .dataframe tbody tr th:only-of-type {\n",
       "        vertical-align: middle;\n",
       "    }\n",
       "\n",
       "    .dataframe tbody tr th {\n",
       "        vertical-align: top;\n",
       "    }\n",
       "\n",
       "    .dataframe thead th {\n",
       "        text-align: right;\n",
       "    }\n",
       "</style>\n",
       "<table border=\"1\" class=\"dataframe\">\n",
       "  <thead>\n",
       "    <tr style=\"text-align: right;\">\n",
       "      <th></th>\n",
       "      <th>class</th>\n",
       "      <th>aa_000</th>\n",
       "      <th>ab_000</th>\n",
       "      <th>ac_000</th>\n",
       "      <th>ad_000</th>\n",
       "      <th>ae_000</th>\n",
       "      <th>af_000</th>\n",
       "      <th>ag_000</th>\n",
       "      <th>ag_001</th>\n",
       "      <th>ag_002</th>\n",
       "      <th>...</th>\n",
       "      <th>ee_002</th>\n",
       "      <th>ee_003</th>\n",
       "      <th>ee_004</th>\n",
       "      <th>ee_005</th>\n",
       "      <th>ee_006</th>\n",
       "      <th>ee_007</th>\n",
       "      <th>ee_008</th>\n",
       "      <th>ee_009</th>\n",
       "      <th>ef_000</th>\n",
       "      <th>eg_000</th>\n",
       "    </tr>\n",
       "  </thead>\n",
       "  <tbody>\n",
       "    <tr>\n",
       "      <th>0</th>\n",
       "      <td>neg</td>\n",
       "      <td>76698</td>\n",
       "      <td>na</td>\n",
       "      <td>2130706438</td>\n",
       "      <td>280</td>\n",
       "      <td>0</td>\n",
       "      <td>0</td>\n",
       "      <td>0</td>\n",
       "      <td>0</td>\n",
       "      <td>0</td>\n",
       "      <td>...</td>\n",
       "      <td>1240520</td>\n",
       "      <td>493384</td>\n",
       "      <td>721044</td>\n",
       "      <td>469792</td>\n",
       "      <td>339156</td>\n",
       "      <td>157956</td>\n",
       "      <td>73224</td>\n",
       "      <td>0</td>\n",
       "      <td>0</td>\n",
       "      <td>0</td>\n",
       "    </tr>\n",
       "    <tr>\n",
       "      <th>1</th>\n",
       "      <td>neg</td>\n",
       "      <td>33058</td>\n",
       "      <td>na</td>\n",
       "      <td>0</td>\n",
       "      <td>na</td>\n",
       "      <td>0</td>\n",
       "      <td>0</td>\n",
       "      <td>0</td>\n",
       "      <td>0</td>\n",
       "      <td>0</td>\n",
       "      <td>...</td>\n",
       "      <td>421400</td>\n",
       "      <td>178064</td>\n",
       "      <td>293306</td>\n",
       "      <td>245416</td>\n",
       "      <td>133654</td>\n",
       "      <td>81140</td>\n",
       "      <td>97576</td>\n",
       "      <td>1500</td>\n",
       "      <td>0</td>\n",
       "      <td>0</td>\n",
       "    </tr>\n",
       "    <tr>\n",
       "      <th>2</th>\n",
       "      <td>neg</td>\n",
       "      <td>41040</td>\n",
       "      <td>na</td>\n",
       "      <td>228</td>\n",
       "      <td>100</td>\n",
       "      <td>0</td>\n",
       "      <td>0</td>\n",
       "      <td>0</td>\n",
       "      <td>0</td>\n",
       "      <td>0</td>\n",
       "      <td>...</td>\n",
       "      <td>277378</td>\n",
       "      <td>159812</td>\n",
       "      <td>423992</td>\n",
       "      <td>409564</td>\n",
       "      <td>320746</td>\n",
       "      <td>158022</td>\n",
       "      <td>95128</td>\n",
       "      <td>514</td>\n",
       "      <td>0</td>\n",
       "      <td>0</td>\n",
       "    </tr>\n",
       "    <tr>\n",
       "      <th>3</th>\n",
       "      <td>neg</td>\n",
       "      <td>12</td>\n",
       "      <td>0</td>\n",
       "      <td>70</td>\n",
       "      <td>66</td>\n",
       "      <td>0</td>\n",
       "      <td>10</td>\n",
       "      <td>0</td>\n",
       "      <td>0</td>\n",
       "      <td>0</td>\n",
       "      <td>...</td>\n",
       "      <td>240</td>\n",
       "      <td>46</td>\n",
       "      <td>58</td>\n",
       "      <td>44</td>\n",
       "      <td>10</td>\n",
       "      <td>0</td>\n",
       "      <td>0</td>\n",
       "      <td>0</td>\n",
       "      <td>4</td>\n",
       "      <td>32</td>\n",
       "    </tr>\n",
       "    <tr>\n",
       "      <th>4</th>\n",
       "      <td>neg</td>\n",
       "      <td>60874</td>\n",
       "      <td>na</td>\n",
       "      <td>1368</td>\n",
       "      <td>458</td>\n",
       "      <td>0</td>\n",
       "      <td>0</td>\n",
       "      <td>0</td>\n",
       "      <td>0</td>\n",
       "      <td>0</td>\n",
       "      <td>...</td>\n",
       "      <td>622012</td>\n",
       "      <td>229790</td>\n",
       "      <td>405298</td>\n",
       "      <td>347188</td>\n",
       "      <td>286954</td>\n",
       "      <td>311560</td>\n",
       "      <td>433954</td>\n",
       "      <td>1218</td>\n",
       "      <td>0</td>\n",
       "      <td>0</td>\n",
       "    </tr>\n",
       "  </tbody>\n",
       "</table>\n",
       "<p>5 rows × 171 columns</p>\n",
       "</div>"
      ],
      "text/plain": [
       "  class  aa_000 ab_000      ac_000 ad_000 ae_000 af_000 ag_000 ag_001 ag_002  \\\n",
       "0   neg   76698     na  2130706438    280      0      0      0      0      0   \n",
       "1   neg   33058     na           0     na      0      0      0      0      0   \n",
       "2   neg   41040     na         228    100      0      0      0      0      0   \n",
       "3   neg      12      0          70     66      0     10      0      0      0   \n",
       "4   neg   60874     na        1368    458      0      0      0      0      0   \n",
       "\n",
       "   ...   ee_002  ee_003  ee_004  ee_005  ee_006  ee_007  ee_008 ee_009 ef_000  \\\n",
       "0  ...  1240520  493384  721044  469792  339156  157956   73224      0      0   \n",
       "1  ...   421400  178064  293306  245416  133654   81140   97576   1500      0   \n",
       "2  ...   277378  159812  423992  409564  320746  158022   95128    514      0   \n",
       "3  ...      240      46      58      44      10       0       0      0      4   \n",
       "4  ...   622012  229790  405298  347188  286954  311560  433954   1218      0   \n",
       "\n",
       "  eg_000  \n",
       "0      0  \n",
       "1      0  \n",
       "2      0  \n",
       "3     32  \n",
       "4      0  \n",
       "\n",
       "[5 rows x 171 columns]"
      ]
     },
     "execution_count": 18,
     "metadata": {},
     "output_type": "execute_result"
    }
   ],
   "source": [
    "data.head()"
   ]
  },
  {
   "cell_type": "markdown",
   "metadata": {},
   "source": [
    "4. Extracting the size/shape of dataset."
   ]
  },
  {
   "cell_type": "code",
   "execution_count": 19,
   "metadata": {},
   "outputs": [
    {
     "name": "stdout",
     "output_type": "stream",
     "text": [
      "Number of Instances: 60000\n",
      "Number of Features: 171\n"
     ]
    }
   ],
   "source": [
    "rows, columns = data.shape\n",
    "print(f\"Number of Instances: {rows}\")\n",
    "print(f\"Number of Features: {columns}\")"
   ]
  },
  {
   "cell_type": "markdown",
   "metadata": {},
   "source": [
    "5. Getting the summary of the dataset information."
   ]
  },
  {
   "cell_type": "code",
   "execution_count": 20,
   "metadata": {},
   "outputs": [
    {
     "name": "stdout",
     "output_type": "stream",
     "text": [
      "<class 'pandas.core.frame.DataFrame'>\n",
      "RangeIndex: 60000 entries, 0 to 59999\n",
      "Columns: 171 entries, class to eg_000\n",
      "dtypes: int64(1), object(170)\n",
      "memory usage: 78.3+ MB\n"
     ]
    }
   ],
   "source": [
    "data.info()"
   ]
  },
  {
   "cell_type": "code",
   "execution_count": 21,
   "metadata": {},
   "outputs": [
    {
     "name": "stdout",
     "output_type": "stream",
     "text": [
      "<class 'pandas.core.series.Series'>\n",
      "RangeIndex: 60000 entries, 0 to 59999\n",
      "Series name: aa_000\n",
      "Non-Null Count  Dtype\n",
      "--------------  -----\n",
      "60000 non-null  int64\n",
      "dtypes: int64(1)\n",
      "memory usage: 468.9 KB\n"
     ]
    }
   ],
   "source": [
    "data['aa_000'].info()"
   ]
  },
  {
   "cell_type": "markdown",
   "metadata": {},
   "source": [
    "#### It shows out of 171 columns, only one (aa_000) of them is of numerical type (int) and rest of them are categorical (string). Also there are no NUll (missing) values in any column."
   ]
  },
  {
   "cell_type": "markdown",
   "metadata": {},
   "source": [
    "6. Utilizing Label Encoding from *sklearn* to transform string data into integers.\n",
    "\n",
    "This conversion is performed to facilitate its utilization in subsequent analyses and interpolations."
   ]
  },
  {
   "cell_type": "code",
   "execution_count": 22,
   "metadata": {},
   "outputs": [],
   "source": [
    "let = LabelEncoder()\n",
    "\n",
    "for i in data.columns:\n",
    "    data[i] = let.fit_transform(data[i])"
   ]
  },
  {
   "cell_type": "markdown",
   "metadata": {},
   "source": [
    "7. Visualization (Pie Plot) using *matplotlib* and *seaborn* \n",
    "\n",
    "Visualization of Dataset to get a better insight of the data"
   ]
  },
  {
   "cell_type": "markdown",
   "metadata": {},
   "source": [
    "## The Curse of Dimensionality\n",
    "\n",
    "The Challenge of High-Dimensional Data, often referred to as the \"Curse of Dimensionality,\" introduces several complexities and obstacles when dealing with datasets containing a large number of attributes. Its impacts on data analysis are as follows:\n",
    " - Increasing dimensions lead to a surge in computational demands for algorithms.\n",
    " - High-dimensional data can significantly heighten the risk of overfitting in machine learning models.\n",
    " - With a plethora of dimensions, it becomes increasingly challenging to extract meaningful patterns or insights.\n",
    " - Data points are scattered more widely in high-dimensional space, complicating tasks such as finding nearest neighbors or assessing similarities.\n",
    "\n",
    "One effective approach to combat this challenge is dimensionality reduction, and one of the techniques used for this purpose is Principal Component Analysis (PCA)."
   ]
  },
  {
   "cell_type": "markdown",
   "metadata": {},
   "source": [
    "## Dimensionality Reduction Using Principal Component Analysis (PCA)"
   ]
  },
  {
   "cell_type": "markdown",
   "metadata": {},
   "source": [
    "1. Leveraging the PCA Module within scikit-learn for Dimensionality Reduction"
   ]
  },
  {
   "cell_type": "code",
   "execution_count": 23,
   "metadata": {},
   "outputs": [],
   "source": [
    "from sklearn.decomposition import PCA\n",
    "from sklearn.preprocessing import StandardScaler"
   ]
  },
  {
   "cell_type": "markdown",
   "metadata": {},
   "source": [
    "2. Data Standardization by *sklearn.preprocessing*"
   ]
  },
  {
   "cell_type": "code",
   "execution_count": 24,
   "metadata": {},
   "outputs": [
    {
     "data": {
      "text/plain": [
       "array([[-0.13018891,  1.19159108,  0.53075991, ..., -0.73351866,\n",
       "        -0.22474038, -0.23069838],\n",
       "       [-0.13018891, -0.00875114,  0.53075991, ..., -0.18281782,\n",
       "        -0.22474038, -0.23069838],\n",
       "       [-0.13018891,  0.36900137,  0.53075991, ...,  1.47847888,\n",
       "        -0.22474038, -0.23069838],\n",
       "       ...,\n",
       "       [-0.13018891, -1.03091398, -1.98735109, ..., -0.73351866,\n",
       "        -0.22474038, -0.23069838],\n",
       "       [-0.13018891,  1.26738608,  0.53075991, ...,  1.12466072,\n",
       "        -0.22474038, -0.23069838],\n",
       "       [-0.13018891,  0.30802918,  0.53075991, ..., -0.11116648,\n",
       "        -0.22474038, -0.23069838]])"
      ]
     },
     "execution_count": 24,
     "metadata": {},
     "output_type": "execute_result"
    }
   ],
   "source": [
    "scaler = StandardScaler()\n",
    "Standardized_data = scaler.fit_transform(data)\n",
    "Standardized_data"
   ]
  },
  {
   "cell_type": "markdown",
   "metadata": {},
   "source": [
    "####   The process of standardization, which involves mean centering and scaling to unit variance, plays a vital role in PCA analysis. Standardization guarantees that each feature contributes equally to the PCA analysis and aids in accurately capturing the inherent variance of each individual feature."
   ]
  },
  {
   "cell_type": "markdown",
   "metadata": {},
   "source": [
    "3. Employing PCA for the Conversion of Original Data"
   ]
  },
  {
   "cell_type": "code",
   "execution_count": 25,
   "metadata": {},
   "outputs": [
    {
     "data": {
      "text/html": [
       "<style>#sk-container-id-2 {color: black;}#sk-container-id-2 pre{padding: 0;}#sk-container-id-2 div.sk-toggleable {background-color: white;}#sk-container-id-2 label.sk-toggleable__label {cursor: pointer;display: block;width: 100%;margin-bottom: 0;padding: 0.3em;box-sizing: border-box;text-align: center;}#sk-container-id-2 label.sk-toggleable__label-arrow:before {content: \"▸\";float: left;margin-right: 0.25em;color: #696969;}#sk-container-id-2 label.sk-toggleable__label-arrow:hover:before {color: black;}#sk-container-id-2 div.sk-estimator:hover label.sk-toggleable__label-arrow:before {color: black;}#sk-container-id-2 div.sk-toggleable__content {max-height: 0;max-width: 0;overflow: hidden;text-align: left;background-color: #f0f8ff;}#sk-container-id-2 div.sk-toggleable__content pre {margin: 0.2em;color: black;border-radius: 0.25em;background-color: #f0f8ff;}#sk-container-id-2 input.sk-toggleable__control:checked~div.sk-toggleable__content {max-height: 200px;max-width: 100%;overflow: auto;}#sk-container-id-2 input.sk-toggleable__control:checked~label.sk-toggleable__label-arrow:before {content: \"▾\";}#sk-container-id-2 div.sk-estimator input.sk-toggleable__control:checked~label.sk-toggleable__label {background-color: #d4ebff;}#sk-container-id-2 div.sk-label input.sk-toggleable__control:checked~label.sk-toggleable__label {background-color: #d4ebff;}#sk-container-id-2 input.sk-hidden--visually {border: 0;clip: rect(1px 1px 1px 1px);clip: rect(1px, 1px, 1px, 1px);height: 1px;margin: -1px;overflow: hidden;padding: 0;position: absolute;width: 1px;}#sk-container-id-2 div.sk-estimator {font-family: monospace;background-color: #f0f8ff;border: 1px dotted black;border-radius: 0.25em;box-sizing: border-box;margin-bottom: 0.5em;}#sk-container-id-2 div.sk-estimator:hover {background-color: #d4ebff;}#sk-container-id-2 div.sk-parallel-item::after {content: \"\";width: 100%;border-bottom: 1px solid gray;flex-grow: 1;}#sk-container-id-2 div.sk-label:hover label.sk-toggleable__label {background-color: #d4ebff;}#sk-container-id-2 div.sk-serial::before {content: \"\";position: absolute;border-left: 1px solid gray;box-sizing: border-box;top: 0;bottom: 0;left: 50%;z-index: 0;}#sk-container-id-2 div.sk-serial {display: flex;flex-direction: column;align-items: center;background-color: white;padding-right: 0.2em;padding-left: 0.2em;position: relative;}#sk-container-id-2 div.sk-item {position: relative;z-index: 1;}#sk-container-id-2 div.sk-parallel {display: flex;align-items: stretch;justify-content: center;background-color: white;position: relative;}#sk-container-id-2 div.sk-item::before, #sk-container-id-2 div.sk-parallel-item::before {content: \"\";position: absolute;border-left: 1px solid gray;box-sizing: border-box;top: 0;bottom: 0;left: 50%;z-index: -1;}#sk-container-id-2 div.sk-parallel-item {display: flex;flex-direction: column;z-index: 1;position: relative;background-color: white;}#sk-container-id-2 div.sk-parallel-item:first-child::after {align-self: flex-end;width: 50%;}#sk-container-id-2 div.sk-parallel-item:last-child::after {align-self: flex-start;width: 50%;}#sk-container-id-2 div.sk-parallel-item:only-child::after {width: 0;}#sk-container-id-2 div.sk-dashed-wrapped {border: 1px dashed gray;margin: 0 0.4em 0.5em 0.4em;box-sizing: border-box;padding-bottom: 0.4em;background-color: white;}#sk-container-id-2 div.sk-label label {font-family: monospace;font-weight: bold;display: inline-block;line-height: 1.2em;}#sk-container-id-2 div.sk-label-container {text-align: center;}#sk-container-id-2 div.sk-container {/* jupyter's `normalize.less` sets `[hidden] { display: none; }` but bootstrap.min.css set `[hidden] { display: none !important; }` so we also need the `!important` here to be able to override the default hidden behavior on the sphinx rendered scikit-learn.org. See: https://github.com/scikit-learn/scikit-learn/issues/21755 */display: inline-block !important;position: relative;}#sk-container-id-2 div.sk-text-repr-fallback {display: none;}</style><div id=\"sk-container-id-2\" class=\"sk-top-container\"><div class=\"sk-text-repr-fallback\"><pre>PCA()</pre><b>In a Jupyter environment, please rerun this cell to show the HTML representation or trust the notebook. <br />On GitHub, the HTML representation is unable to render, please try loading this page with nbviewer.org.</b></div><div class=\"sk-container\" hidden><div class=\"sk-item\"><div class=\"sk-estimator sk-toggleable\"><input class=\"sk-toggleable__control sk-hidden--visually\" id=\"sk-estimator-id-2\" type=\"checkbox\" checked><label for=\"sk-estimator-id-2\" class=\"sk-toggleable__label sk-toggleable__label-arrow\">PCA</label><div class=\"sk-toggleable__content\"><pre>PCA()</pre></div></div></div></div></div>"
      ],
      "text/plain": [
       "PCA()"
      ]
     },
     "execution_count": 25,
     "metadata": {},
     "output_type": "execute_result"
    }
   ],
   "source": [
    "pca = PCA()\n",
    "pca.fit(Standardized_data)"
   ]
  },
  {
   "cell_type": "markdown",
   "metadata": {},
   "source": [
    "#### PCA (Principal Component Analysis) is utilized to restructure the original data into a new collection of orthogonal attributes known as principal components. These components are designed to elucidate the highest proportion of variance present within the dataset."
   ]
  },
  {
   "cell_type": "markdown",
   "metadata": {},
   "source": [
    "4. Computing Explained Variance Ratio"
   ]
  },
  {
   "cell_type": "code",
   "execution_count": 26,
   "metadata": {},
   "outputs": [
    {
     "name": "stdout",
     "output_type": "stream",
     "text": [
      "[1.33244725e-01 6.79023540e-02 5.93759898e-02 4.96641181e-02\n",
      " 4.37523483e-02 2.80370345e-02 2.39090446e-02 1.93514205e-02\n",
      " 1.69558886e-02 1.42395333e-02 1.37942134e-02 1.22897537e-02\n",
      " 1.05263495e-02 9.80522173e-03 9.20516074e-03 8.75267476e-03\n",
      " 8.37485445e-03 8.27254678e-03 7.76212003e-03 7.57683685e-03\n",
      " 7.36066150e-03 7.00418788e-03 6.89101202e-03 6.72106157e-03\n",
      " 6.38597174e-03 6.29711295e-03 6.13235750e-03 6.06363742e-03\n",
      " 5.92637585e-03 5.86462146e-03 5.78668830e-03 5.68400381e-03\n",
      " 5.58745557e-03 5.55749602e-03 5.49435565e-03 5.39396148e-03\n",
      " 5.36021889e-03 5.30258710e-03 5.27876865e-03 5.23287794e-03\n",
      " 5.16048310e-03 5.11422473e-03 5.05415365e-03 5.00953699e-03\n",
      " 4.92879615e-03 4.88535759e-03 4.87263221e-03 4.81969957e-03\n",
      " 4.80955745e-03 4.69762761e-03 4.65652734e-03 4.60889029e-03\n",
      " 4.55634816e-03 4.51717147e-03 4.49225120e-03 4.48047143e-03\n",
      " 4.41373854e-03 4.38127991e-03 4.32542962e-03 4.29044471e-03\n",
      " 4.25537226e-03 4.22220720e-03 4.16593664e-03 4.10374458e-03\n",
      " 4.08123439e-03 4.03873468e-03 3.98925065e-03 3.94704937e-03\n",
      " 3.90671221e-03 3.88350934e-03 3.83981293e-03 3.82489254e-03\n",
      " 3.81174703e-03 3.78959660e-03 3.68145222e-03 3.65463145e-03\n",
      " 3.61559704e-03 3.58162864e-03 3.54976834e-03 3.50875179e-03\n",
      " 3.50061378e-03 3.44076267e-03 3.39740863e-03 3.37497941e-03\n",
      " 3.35571524e-03 3.31131880e-03 3.27739302e-03 3.27030508e-03\n",
      " 3.22405364e-03 3.19751709e-03 3.17821593e-03 3.13824384e-03\n",
      " 3.12863160e-03 3.10525165e-03 3.03907518e-03 3.03008880e-03\n",
      " 2.98772122e-03 2.97677517e-03 2.94777911e-03 2.92724140e-03\n",
      " 2.88212106e-03 2.87580486e-03 2.82729430e-03 2.79218805e-03\n",
      " 2.76284076e-03 2.72252644e-03 2.68234253e-03 2.62394610e-03\n",
      " 2.61089451e-03 2.53609477e-03 2.52591891e-03 2.47463381e-03\n",
      " 2.43971268e-03 2.41249375e-03 2.32315240e-03 2.30925662e-03\n",
      " 2.20428539e-03 2.11705248e-03 2.08774630e-03 1.95991126e-03\n",
      " 1.93288910e-03 1.88995942e-03 1.86957952e-03 1.81723344e-03\n",
      " 1.78461838e-03 1.76535064e-03 1.68604217e-03 1.67122276e-03\n",
      " 1.63253559e-03 1.61163816e-03 1.50758377e-03 1.47355166e-03\n",
      " 1.42796882e-03 1.39392819e-03 1.37284327e-03 1.29195563e-03\n",
      " 1.22604726e-03 1.12254081e-03 1.09960114e-03 1.04078519e-03\n",
      " 1.02794042e-03 9.48308105e-04 9.26749591e-04 8.53658012e-04\n",
      " 8.03803724e-04 7.23931555e-04 7.03234117e-04 6.59019635e-04\n",
      " 6.18483346e-04 5.34513945e-04 4.99920943e-04 4.70354916e-04\n",
      " 4.41165527e-04 4.09133553e-04 2.73023025e-04 2.66708909e-04\n",
      " 2.35412744e-04 2.22919111e-04 2.05211908e-04 2.01629237e-04\n",
      " 1.55553021e-04 1.42353254e-04 1.32406743e-04 9.54031244e-05\n",
      " 8.05968940e-05 4.99570429e-05 3.74855473e-05 2.77828564e-05\n",
      " 1.23024181e-05 1.75739620e-11 4.81002416e-12]\n"
     ]
    }
   ],
   "source": [
    "expl_var_ratio = pca.explained_variance_ratio_\n",
    "print(expl_var_ratio)"
   ]
  },
  {
   "cell_type": "markdown",
   "metadata": {},
   "source": [
    "#### Calculating the explained variance ratio (expl_var_ratio) allows us to assess how much each principal component contributes to the total variance in the data, helping us understand the importance of each component."
   ]
  },
  {
   "cell_type": "markdown",
   "metadata": {},
   "source": [
    "5. Cumulative Explained Variance with the help of *Numpy*"
   ]
  },
  {
   "cell_type": "code",
   "execution_count": 27,
   "metadata": {},
   "outputs": [
    {
     "name": "stdout",
     "output_type": "stream",
     "text": [
      "149\n"
     ]
    }
   ],
   "source": [
    "cumul_expl_var = np.cumsum(expl_var_ratio)\n",
    "components_no = np.argmax(cumul_expl_var >= 0.995) + 1\n",
    "print(components_no)"
   ]
  },
  {
   "cell_type": "markdown",
   "metadata": {},
   "source": [
    "#### Through the computation of cumulative explained variance, we can establish the optimal number of components necessary to preserve a specified percentage of the overall variance. In this specific scenario, our goal is to retain 99.5% of the variance, as stipulated in the assignment, striking a balance between reducing dimensionality and preserving critical information."
   ]
  },
  {
   "cell_type": "markdown",
   "metadata": {},
   "source": [
    "6. Employing PCA with Selected Principal Components"
   ]
  },
  {
   "cell_type": "code",
   "execution_count": 28,
   "metadata": {},
   "outputs": [
    {
     "data": {
      "text/plain": [
       "array([[-3.30051431e-01,  1.90013155e-01, -2.47802259e+00, ...,\n",
       "         1.43427963e-01, -5.12026333e-02, -1.81855258e-01],\n",
       "       [ 9.88169318e-01, -5.72873802e-01, -5.56483540e+00, ...,\n",
       "        -7.82852201e-02, -1.72154588e-02, -8.79750004e-02],\n",
       "       [-3.51275762e+00, -3.48239574e-02, -9.40571863e-01, ...,\n",
       "         1.55459322e-01, -9.05344745e-02, -4.27545254e-02],\n",
       "       ...,\n",
       "       [-1.09584681e+00,  4.55045208e-01,  4.46099209e+00, ...,\n",
       "        -6.33088373e-02,  2.07164128e-01, -2.81228612e-01],\n",
       "       [-7.40064322e-01,  3.89020552e-01, -1.41326726e+00, ...,\n",
       "         4.11290980e-02,  1.24662174e-01, -6.43678849e-01],\n",
       "       [-1.76892405e+00,  5.64375980e-01, -2.24915358e+00, ...,\n",
       "         4.54404419e-03,  9.11644847e-02,  1.56842807e-02]])"
      ]
     },
     "execution_count": 28,
     "metadata": {},
     "output_type": "execute_result"
    }
   ],
   "source": [
    "pca = PCA(n_components=components_no)\n",
    "reduced_df = pca.fit_transform(Standardized_data)\n",
    "reduced_df"
   ]
  },
  {
   "cell_type": "markdown",
   "metadata": {},
   "source": [
    "#### Applying PCA with the most significant components can result in enhanced model performance, reduced training times, and improved data interpretability."
   ]
  },
  {
   "cell_type": "markdown",
   "metadata": {},
   "source": [
    "## Results"
   ]
  },
  {
   "cell_type": "code",
   "execution_count": 29,
   "metadata": {},
   "outputs": [
    {
     "name": "stdout",
     "output_type": "stream",
     "text": [
      "Explained Variance Ratio: [1.33244725e-01 6.79023540e-02 5.93759898e-02 4.96641181e-02\n",
      " 4.37523483e-02 2.80370345e-02 2.39090446e-02 1.93514205e-02\n",
      " 1.69558886e-02 1.42395333e-02 1.37942134e-02 1.22897537e-02\n",
      " 1.05263495e-02 9.80522173e-03 9.20516074e-03 8.75267476e-03\n",
      " 8.37485445e-03 8.27254678e-03 7.76212003e-03 7.57683685e-03\n",
      " 7.36066150e-03 7.00418788e-03 6.89101202e-03 6.72106157e-03\n",
      " 6.38597174e-03 6.29711295e-03 6.13235750e-03 6.06363742e-03\n",
      " 5.92637585e-03 5.86462146e-03 5.78668830e-03 5.68400381e-03\n",
      " 5.58745557e-03 5.55749602e-03 5.49435565e-03 5.39396148e-03\n",
      " 5.36021889e-03 5.30258710e-03 5.27876865e-03 5.23287794e-03\n",
      " 5.16048310e-03 5.11422473e-03 5.05415365e-03 5.00953699e-03\n",
      " 4.92879615e-03 4.88535759e-03 4.87263221e-03 4.81969957e-03\n",
      " 4.80955745e-03 4.69762761e-03 4.65652734e-03 4.60889029e-03\n",
      " 4.55634816e-03 4.51717147e-03 4.49225120e-03 4.48047143e-03\n",
      " 4.41373854e-03 4.38127991e-03 4.32542962e-03 4.29044471e-03\n",
      " 4.25537226e-03 4.22220720e-03 4.16593664e-03 4.10374458e-03\n",
      " 4.08123439e-03 4.03873468e-03 3.98925065e-03 3.94704937e-03\n",
      " 3.90671221e-03 3.88350934e-03 3.83981293e-03 3.82489254e-03\n",
      " 3.81174703e-03 3.78959660e-03 3.68145222e-03 3.65463145e-03\n",
      " 3.61559704e-03 3.58162864e-03 3.54976834e-03 3.50875179e-03\n",
      " 3.50061378e-03 3.44076267e-03 3.39740863e-03 3.37497941e-03\n",
      " 3.35571524e-03 3.31131880e-03 3.27739302e-03 3.27030508e-03\n",
      " 3.22405364e-03 3.19751709e-03 3.17821593e-03 3.13824384e-03\n",
      " 3.12863160e-03 3.10525165e-03 3.03907518e-03 3.03008880e-03\n",
      " 2.98772122e-03 2.97677517e-03 2.94777911e-03 2.92724140e-03\n",
      " 2.88212106e-03 2.87580486e-03 2.82729430e-03 2.79218805e-03\n",
      " 2.76284076e-03 2.72252644e-03 2.68234253e-03 2.62394610e-03\n",
      " 2.61089451e-03 2.53609477e-03 2.52591891e-03 2.47463381e-03\n",
      " 2.43971268e-03 2.41249375e-03 2.32315240e-03 2.30925662e-03\n",
      " 2.20428539e-03 2.11705248e-03 2.08774630e-03 1.95991126e-03\n",
      " 1.93288910e-03 1.88995942e-03 1.86957952e-03 1.81723344e-03\n",
      " 1.78461838e-03 1.76535064e-03 1.68604217e-03 1.67122276e-03\n",
      " 1.63253559e-03 1.61163816e-03 1.50758377e-03 1.47355166e-03\n",
      " 1.42796882e-03 1.39392819e-03 1.37284327e-03 1.29195563e-03\n",
      " 1.22604726e-03 1.12254081e-03 1.09960114e-03 1.04078519e-03\n",
      " 1.02794042e-03 9.48308105e-04 9.26749591e-04 8.53658012e-04\n",
      " 8.03803724e-04 7.23931555e-04 7.03234117e-04 6.59019635e-04\n",
      " 6.18483346e-04 5.34513945e-04 4.99920943e-04 4.70354916e-04\n",
      " 4.41165527e-04 4.09133553e-04 2.73023025e-04 2.66708909e-04\n",
      " 2.35412744e-04 2.22919111e-04 2.05211908e-04 2.01629237e-04\n",
      " 1.55553021e-04 1.42353254e-04 1.32406743e-04 9.54031244e-05\n",
      " 8.05968940e-05 4.99570429e-05 3.74855473e-05 2.77828564e-05\n",
      " 1.23024181e-05 1.75739620e-11 4.81002416e-12]\n",
      "Components that Preserved 99.5% of the Variance: 149\n",
      "Reduced DataFrame Shape: (60000, 149)\n"
     ]
    }
   ],
   "source": [
    "print(\"Explained Variance Ratio:\", expl_var_ratio)\n",
    "print(\"Components that Preserved 99.5% of the Variance:\", components_no)\n",
    "print(\"Reduced DataFrame Shape:\", reduced_df.shape)"
   ]
  },
  {
   "cell_type": "markdown",
   "metadata": {},
   "source": [
    "## Synopsis\n",
    "Principal Component Analysis (PCA) is a prevalent method for linear feature extraction, primarily applied in unsupervised feature selection. In the context of this analysis, PCA serves as a valuable tool for dimensionality reduction, offering various advantages:\n",
    "\n",
    "- **Diminished Dimensionality:** PCA transforms high-dimensional data into a lower-dimensional space while retaining a significant portion of the variance.\n",
    "- **Enhanced Model Performance:** Diminishing dimensionality through PCA often leads to improved model performance in machine learning scenarios, minimizing noise and multicollinearity.\n",
    "\n",
    "By implementing PCA and retaining 99.5% of the variance, we ensure the preservation of crucial information while simplifying the data structure. The resultant dataset, denoted as **reduced_df**, comprises a condensed set of features that are most pertinent for subsequent analysis and modeling."
   ]
  },
  {
   "cell_type": "markdown",
   "metadata": {},
   "source": [
    "## References\n",
    "\n",
    "1. Pandas Development Team. \"Pandas: Powerful data structures for data analysis, time series, and statistics.\" [Pandas Website](https://pandas.pydata.org/)\n",
    "\n",
    "2. Scikit-learn Contributors. \"Scikit-learn: Machine Learning in Python.\" [Scikit-learn Website](https://scikit-learn.org/stable/)\n",
    "\n",
    "3. Matplotlib Development Team. \"Matplotlib: Visualization with Python.\" [Matplotlib Website](https://matplotlib.org/)\n",
    "\n",
    "4. Seaborn Development Team. \"Seaborn: Statistical Data Visualization.\" [Seaborn Website](https://seaborn.pydata.org/)\n",
    "\n",
    "5. Numpy Development Team. \"Numpy: Scientific Computing.\" [Numpy Website](https://numpy.org//)"
   ]
  }
 ],
 "metadata": {
  "kernelspec": {
   "display_name": "myenv",
   "language": "python",
   "name": "python3"
  },
  "language_info": {
   "codemirror_mode": {
    "name": "ipython",
    "version": 3
   },
   "file_extension": ".py",
   "mimetype": "text/x-python",
   "name": "python",
   "nbconvert_exporter": "python",
   "pygments_lexer": "ipython3",
   "version": "3.11.4"
  }
 },
 "nbformat": 4,
 "nbformat_minor": 2
}
